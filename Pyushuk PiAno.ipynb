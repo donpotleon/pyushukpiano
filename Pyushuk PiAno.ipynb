{
 "cells": [
  {
   "cell_type": "code",
   "execution_count": 2,
   "id": "c8a914fc",
   "metadata": {},
   "outputs": [
    {
     "name": "stdout",
     "output_type": "stream",
     "text": [
      "Collecting sounddeviceNote: you may need to restart the kernel to use updated packages.\n",
      "  Downloading sounddevice-0.4.6-py3-none-win_amd64.whl (199 kB)\n",
      "Requirement already satisfied: CFFI>=1.0 in c:\\users\\alex0\\anaconda3\\lib\\site-packages (from sounddevice) (1.14.6)\n",
      "Requirement already satisfied: pycparser in c:\\users\\alex0\\anaconda3\\lib\\site-packages (from CFFI>=1.0->sounddevice) (2.20)\n",
      "Installing collected packages: sounddevice\n",
      "Successfully installed sounddevice-0.4.6\n",
      "\n"
     ]
    }
   ],
   "source": [
    "pip install sounddevice       #첨 실행할때만 하고 나중엔 지우셈"
   ]
  },
  {
   "cell_type": "code",
   "execution_count": 93,
   "id": "2e3916b7",
   "metadata": {},
   "outputs": [],
   "source": [
    "import numpy as np\n",
    "import math\n",
    "import sounddevice as sd\n",
    "from  scipy.io import wavfile\n",
    "\n",
    "v_rate, v_data = wavfile.read('사랑할수록 (화생방실 클레오파트라).wav')    #rate와 파형 리스트 각각 반환해줌\n",
    "\n",
    "if(len(v_data.shape)>1):                            # 양쪽 다른 스테레오 사운드면 N*2 행렬로 나와서 걍 한쪽 버려버림. 평균때리면 ㅈ되더라?\n",
    "        v_data=np.array(v_data[:,1])\n",
    "\n",
    "#sd.play(v_data, v_rate)     \n",
    "\n",
    "t = np.arange(0, 1, 1/v_rate)                  # Time array contains range of [0:1]\n",
    "                                               # unit time: 1/v_rate\n",
    "sampleLength = np.size(v_data)                 # 노래 파형 리스트 크기 = 샘플 개수\n",
    "interval = 2000                                # 음 최소단위 샘플 몇 칸으로 할건지\n",
    "numInterval = math.floor(sampleLength/interval)  # 노래 동안 인터벌 수, 저거 정수 아닐까봐 내림함"
   ]
  },
  {
   "cell_type": "code",
   "execution_count": 89,
   "id": "c010c89a",
   "metadata": {},
   "outputs": [
    {
     "data": {
      "text/plain": [
       "array([  32.70375,   34.6475 ,   36.7075 ,   38.89125,   41.20375,\n",
       "         43.65375,   46.24875,   49.     ,   51.9125 ,   55.     ,\n",
       "         58.27   ,   61.735  ,   65.4075 ,   69.295  ,   73.415  ,\n",
       "         77.7825 ,   82.4075 ,   87.3075 ,   92.4975 ,   98.     ,\n",
       "        103.825  ,  110.     ,  116.54   ,  123.47   ,  130.815  ,\n",
       "        138.59   ,  146.83   ,  155.565  ,  164.815  ,  174.615  ,\n",
       "        184.995  ,  196.     ,  207.65   ,  220.     ,  233.08   ,\n",
       "        246.94   ,  261.63   ,  277.18   ,  293.66   ,  311.13   ,\n",
       "        329.63   ,  349.23   ,  369.99   ,  392.     ,  415.3    ,\n",
       "        440.     ,  466.16   ,  493.88   ,  523.26   ,  554.36   ,\n",
       "        587.32   ,  622.26   ,  659.26   ,  698.46   ,  739.98   ,\n",
       "        784.     ,  830.6    ,  880.     ,  932.32   ,  987.76   ,\n",
       "       1046.52   , 1108.72   , 1174.64   , 1244.52   , 1318.52   ,\n",
       "       1396.92   , 1479.96   , 1568.     , 1661.2    , 1760.     ,\n",
       "       1864.64   , 1975.52   , 2093.04   , 2217.44   , 2349.28   ,\n",
       "       2489.04   , 2637.04   , 2793.84   , 2959.92   , 3136.     ,\n",
       "       3322.4    , 3520.     , 3729.28   , 3951.04   ])"
      ]
     },
     "execution_count": 89,
     "metadata": {},
     "output_type": "execute_result"
    }
   ],
   "source": [
    "freqMid=[261.63, 277.18, 293.66, 311.13, 329.63, 349.23, 369.99, 392.00, 415.30, 440.00, 466.16, 493.88]\n",
    "freqNote=np.empty(84)\n",
    "\n",
    "\n",
    "for i in range(84):\n",
    "    freqNote[i]=freqMid[i%12]*pow(2, divmod(i,12)[0]-3)        # 옥타브 7개, 그중 가운데가 표준 음\n",
    "            \n",
    "freqNote"
   ]
  },
  {
   "cell_type": "code",
   "execution_count": 94,
   "id": "ebc60aca",
   "metadata": {},
   "outputs": [],
   "source": [
    "signal=np.empty((6,84,v_rate))\n",
    "mixed=np.empty((84,v_rate))\n",
    "\n",
    "#mixed[음계][옥타브]가 최종 피아노 파형 리스트이고 signal은 걍 사인파 합성한거\n",
    "\n",
    "for i in range(6):\n",
    "    for j in range(84):\n",
    "            signal[i][j] = pow(2,-1*i)*np.sin(2*np.pi*i*freqNote[j]*t )\n",
    "            mixed[j]+=signal[i][j]\n",
    "            \n",
    "sd.play(mixed[40],v_rate)"
   ]
  },
  {
   "cell_type": "code",
   "execution_count": 130,
   "id": "bc719393",
   "metadata": {},
   "outputs": [],
   "source": [
    "sheet = np.zeros((numInterval,84))   #이게 악보, 각 음계의 i 번째 interval에서 그 음의 amplitude를 저장할거임"
   ]
  },
  {
   "cell_type": "code",
   "execution_count": 103,
   "id": "c312f993",
   "metadata": {},
   "outputs": [],
   "source": [
    "#최소 자승법 ㄱ 한번 하고 작은 amplitude 음계들 버리고 한번 더\n",
    "C=np.zeros((84,84))\n",
    "for i in range(84):\n",
    "    for j in range(84):\n",
    "        for k in range(interval):\n",
    "            C[i][j] += mixed[i][k]*mixed[j][k]\n",
    "invC = np.linalg.inv(C)"
   ]
  },
  {
   "cell_type": "code",
   "execution_count": 131,
   "id": "59a28c11",
   "metadata": {},
   "outputs": [
    {
     "data": {
      "text/plain": [
       "array([[ 2.71495527e-01,  1.05694502e+03, -4.79907823e+02, ...,\n",
       "        -8.51738653e+00, -1.12884221e+00,  8.71628977e-01],\n",
       "       [-1.58944948e+03,  4.02884314e+03, -3.75426168e+03, ...,\n",
       "        -8.35424348e+00, -6.66607329e+00, -5.36468768e+00],\n",
       "       [ 1.12667253e+03, -2.41268309e+03,  1.81240756e+03, ...,\n",
       "         3.68206265e+00,  3.46509903e+00,  4.76760327e+00],\n",
       "       ...,\n",
       "       [-3.68972444e+02,  1.17658675e+03, -1.18314706e+03, ...,\n",
       "        -3.77357094e+00, -2.57550717e+00, -2.47928025e+00],\n",
       "       [ 1.90112297e+03, -4.46573057e+03,  3.94648556e+03, ...,\n",
       "         6.38959228e+00,  6.17512868e+00,  7.40004566e+00],\n",
       "       [-1.42799726e+03,  3.98379972e+03, -3.85917762e+03, ...,\n",
       "        -7.92684405e+00, -7.33881508e+00, -5.82129461e+00]])"
      ]
     },
     "execution_count": 131,
     "metadata": {},
     "output_type": "execute_result"
    }
   ],
   "source": [
    "for i in range(numInterval):\n",
    "    d=np.zeros((84,1))\n",
    "    for j in range(84):\n",
    "        for k in range(interval):\n",
    "            d[j] += v_data[i*interval+k]*mixed[j][k]\n",
    "    sheet[i] = np.dot(invC,d).reshape(84)\n",
    "    \n",
    "sheet \n",
    "\n",
    "#사실 아직 작은 amplitude 음 버리는거 안함 근데 이거 확인되면 ㄱ "
   ]
  },
  {
   "cell_type": "code",
   "execution_count": 179,
   "id": "12510f82",
   "metadata": {},
   "outputs": [
    {
     "data": {
      "text/plain": [
       "array([[ 0.,  2.,  2.],\n",
       "       [ 0., -2., -2.]])"
      ]
     },
     "execution_count": 179,
     "metadata": {},
     "output_type": "execute_result"
    }
   ],
   "source": [
    "a=[[1.1234,2.64532,3],[-1,-2,-3]]\n",
    "b=np.zeros((2,3))\n",
    "for i in range(2):\n",
    "    b[i]=[0 if abs(j)<2 else 2*np.sign(j) for j in a[i]]\n"
   ]
  },
  {
   "cell_type": "code",
   "execution_count": 188,
   "id": "a6f43b80",
   "metadata": {},
   "outputs": [
    {
     "data": {
      "image/png": "[encoded data removed]",
      "text/plain": [
       "<Figure size 432x288 with 2 Axes>"
      ]
     },
     "metadata": {
      "needs_background": "light"
     },
     "output_type": "display_data"
    }
   ],
   "source": [
    "import matplotlib.pyplot as plt\n",
    "\n",
    "plt.pcolor(sheet[3000:3300,40:])\n",
    "plt.colorbar()\n",
    "plt.show()"
   ]
  },
  {
   "cell_type": "code",
   "execution_count": 197,
   "id": "fcc30522",
   "metadata": {},
   "outputs": [
    {
     "data": {
      "image/png": "[encoded data removed]",
      "text/plain": [
       "<Figure size 432x288 with 1 Axes>"
      ]
     },
     "metadata": {
      "needs_background": "light"
     },
     "output_type": "display_data"
    }
   ],
   "source": [
    "plt.plot(sheet.var(axis=0))\n",
    "plt.yscale('log')\n",
    "plt.show()"
   ]
  },
  {
   "cell_type": "code",
   "execution_count": 200,
   "id": "76e759f0",
   "metadata": {},
   "outputs": [
    {
     "data": {
      "text/plain": [
       "array([[    0.,  3000.,     0., ...,     0.,     0.,     0.],\n",
       "       [-3000.,  3000., -3000., ...,     0.,     0.,     0.],\n",
       "       [ 3000., -3000.,  3000., ...,     0.,     0.,     0.],\n",
       "       ...,\n",
       "       [    0.,  3000., -3000., ...,     0.,     0.,     0.],\n",
       "       [ 3000., -3000.,  3000., ...,     0.,     0.,     0.],\n",
       "       [-3000.,  3000., -3000., ...,     0.,     0.,     0.]])"
      ]
     },
     "execution_count": 200,
     "metadata": {},
     "output_type": "execute_result"
    }
   ],
   "source": [
    "sheetImp = np.empty(np.shape(sheet))\n",
    "for i in range(numInterval):\n",
    "    sheetImp[i] = [0 if abs(j)<1000 else 3000*np.sign(j) for j in sheet[i]]\n",
    "sheetImp"
   ]
  },
  {
   "cell_type": "code",
   "execution_count": null,
   "id": "37916f30",
   "metadata": {},
   "outputs": [],
   "source": [
    "#이제 이거 다합쳐서 하나로 만들어야댐..\n",
    "\n",
    "music=np.empty(interval*numInterval)\n",
    "for i in range(numInterval):\n",
    "    for j in range(84):\n",
    "        for k in range(interval):\n",
    "                music[i*interval+k]+=sheetImp[i][j]*mixed[j][k]"
   ]
  },
  {
   "cell_type": "code",
   "execution_count": 176,
   "id": "f9efb444",
   "metadata": {},
   "outputs": [
    {
     "data": {
      "text/plain": [
       "array([ 0.        , 12.16649332, 24.33016948, ..., 71.17847038,\n",
       "       84.67261897, 98.39879348])"
      ]
     },
     "execution_count": 176,
     "metadata": {},
     "output_type": "execute_result"
    }
   ],
   "source": [
    "music"
   ]
  },
  {
   "cell_type": "code",
   "execution_count": null,
   "id": "245454e2",
   "metadata": {},
   "outputs": [],
   "source": [
    "#시각화 해야됨. 파이썬으로 안되면 이걸로 sheet 받아서 csv로 저장하고 딴 언어에서 할 생각도 하는 중"
   ]
  },
  {
   "cell_type": "code",
   "execution_count": 175,
   "id": "bc1f8858",
   "metadata": {},
   "outputs": [],
   "source": [
    "sd.play(music,v_rate)"
   ]
  },
  {
   "cell_type": "code",
   "execution_count": null,
   "id": "a8e8cc7f",
   "metadata": {},
   "outputs": [],
   "source": []
  },
  {
   "cell_type": "code",
   "execution_count": null,
   "id": "5151ba3a",
   "metadata": {},
   "outputs": [],
   "source": []
  },
  {
   "cell_type": "code",
   "execution_count": null,
   "id": "72d21432",
   "metadata": {},
   "outputs": [],
   "source": []
  },
  {
   "cell_type": "code",
   "execution_count": 172,
   "id": "6d232d8e",
   "metadata": {},
   "outputs": [],
   "source": [
    "#사랑할수록 (화생방실 클레오파트라).wav\n",
    "sheetS=sheet\n",
    "musicSoriginal=music"
   ]
  },
  {
   "cell_type": "code",
   "execution_count": 178,
   "id": "c39cbb7f",
   "metadata": {},
   "outputs": [],
   "source": [
    "sheetSsim1=sheetImp\n",
    "musicSsim1=music  \n",
    "\n",
    "#sheetImp = np.empty(np.shape(sheet))\n",
    "#for i in range(numInterval):\n",
    "#    sheetImp[i] = [0 if abs(j)<1000 else j for j in sheet[i]]\n",
    "#sheetImp"
   ]
  },
  {
   "cell_type": "code",
   "execution_count": null,
   "id": "9173bd20",
   "metadata": {},
   "outputs": [],
   "source": []
  }
 ],
 "metadata": {
  "kernelspec": {
   "display_name": "Python 3 (ipykernel)",
   "language": "python",
   "name": "python3"
  },
  "language_info": {
   "codemirror_mode": {
    "name": "ipython",
    "version": 3
   },
   "file_extension": ".py",
   "mimetype": "text/x-python",
   "name": "python",
   "nbconvert_exporter": "python",
   "pygments_lexer": "ipython3",
   "version": "3.9.7"
  }
 },
 "nbformat": 4,
 "nbformat_minor": 5
}
